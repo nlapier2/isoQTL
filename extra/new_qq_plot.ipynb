{
 "cells": [
  {
   "cell_type": "code",
   "execution_count": 1,
   "metadata": {},
   "outputs": [
    {
     "name": "stderr",
     "output_type": "stream",
     "text": [
      "/Users/nathanlapierre/anaconda3/lib/python3.8/site-packages/pandas/core/computation/expressions.py:20: UserWarning: Pandas requires version '2.7.3' or newer of 'numexpr' (version '2.7.1' currently installed).\n",
      "  from pandas.core.computation.check import NUMEXPR_INSTALLED\n"
     ]
    }
   ],
   "source": [
    "import pandas as pd\n",
    "import numpy as np\n",
    "import matplotlib.pyplot as plt"
   ]
  },
  {
   "cell_type": "code",
   "execution_count": 2,
   "metadata": {},
   "outputs": [],
   "source": [
    "def read_method_results(fname, field = 'Beta Perm. P-value', qtltools=False):\n",
    "    if(qtltools):\n",
    "        df = pd.read_csv(fname, sep=' ', header=None)\n",
    "        pvals = df[:][20]\n",
    "    else:\n",
    "        df = pd.read_csv(fname, sep='\\t')\n",
    "        pvals = df[field]\n",
    "    pvals = [i if i > 1e-17 else 1e-17 for i in pvals]\n",
    "    nl10_pvals = np.sort(-np.log10(pvals))\n",
    "    return(nl10_pvals)"
   ]
  },
  {
   "cell_type": "code",
   "execution_count": 3,
   "metadata": {},
   "outputs": [],
   "source": [
    "def multi_qq_plot(pval_df, xmax=10, ymax=17.3):\n",
    "    fig, ax = plt.subplots(nrows=1, ncols=1, sharey=True, figsize=(12,12))\n",
    "    for i in range(pval_df.shape[1]):\n",
    "        method = pval_df.columns[i]\n",
    "        n = len(all_pvals_chr[method].dropna())\n",
    "        x_ticks = [-np.log10((n-i)/n) for i in range(n)]\n",
    "        ax.scatter(x_ticks, pval_df[method].dropna(), label=method)\n",
    "\n",
    "    #xmax, ymax = 5, 10\n",
    "    #ax.plot([0, 1], [0, 1], transform=ax.transAxes, color='red')\n",
    "    ax.plot([0, ymax], [0, xmax], transform=ax.transAxes, color='red')\n",
    "    plt.xlim(-0.3, xmax)\n",
    "    plt.ylim(-0.3, ymax)\n",
    "    plt.xlabel('Expected -log10(pvals)')\n",
    "    plt.ylabel('Observed -log10(pvals)')\n",
    "    plt.legend(prop={'size': 16})\n",
    "    for item in ([ax.title, ax.xaxis.label, ax.yaxis.label] +\n",
    "             ax.get_xticklabels() + ax.get_yticklabels()):\n",
    "        item.set_fontsize(16)\n",
    "    return fig"
   ]
  },
  {
   "cell_type": "code",
   "execution_count": 4,
   "metadata": {},
   "outputs": [],
   "source": [
    "ftest_pvals_allchr = read_method_results('printall/all_chr_geuvadis/results_ftest.tsv')\n",
    "fisher_perm_pvals_allchr = read_method_results('printall/all_chr_geuvadis/results_fisher.tsv')\n",
    "qtltools_sum_pvals_allchr = read_method_results('printall_qtltools/all_chr_geuvadis/results_min.tsv')\n",
    "\n",
    "#ftest_pvals_allchr = read_method_results('printall/geuvadis_chr21/results_chr_21.ftest.tsv')\n",
    "#fisher_perm_pvals_allchr = read_method_results('printall/geuvadis_chr21/results_chr_21.fisher.tsv')\n",
    "#qtltools_sum_pvals_allchr = read_method_results('printall_qtltools/geuvadis_chr21/results_chr_21.min.tsv')\n"
   ]
  },
  {
   "cell_type": "code",
   "execution_count": 5,
   "metadata": {},
   "outputs": [],
   "source": [
    "all_pvals_chr = [ftest_pvals_allchr, fisher_perm_pvals_allchr, qtltools_sum_pvals_allchr]"
   ]
  },
  {
   "cell_type": "code",
   "execution_count": 16,
   "metadata": {},
   "outputs": [
    {
     "name": "stdout",
     "output_type": "stream",
     "text": [
      "F-test median: 0.39062332611917594\n",
      "Fisher_perm median: 0.3743974302191374\n",
      "QTLtools-sum median: 0.35400232791194586\n",
      "\n",
      "Ratios vs expected median: \n",
      "F-test median: 1.297622601553639\n",
      "Fisher_perm median: 1.2437213420985833\n",
      "QTLtools-sum median: 1.1759702787462216\n",
      "\n",
      "F-test 90th percentile: 1.4859239852287345\n",
      "Fisher_perm 90th percentile: 1.5716299728357055\n",
      "QTLtools-sum 90th percentile: 1.309985297945695\n"
     ]
    }
   ],
   "source": [
    "expect_med = -np.log10(0.5)\n",
    "\n",
    "ftest_med = np.median(ftest_pvals_allchr)\n",
    "fisher_med = np.median(fisher_perm_pvals_allchr)\n",
    "qtl_med = np.median(qtltools_sum_pvals_allchr)\n",
    "\n",
    "ftest_med_ratio = np.median(ftest_pvals_allchr / expect_med)\n",
    "fisher_med_ratio = np.median(fisher_perm_pvals_allchr / expect_med)\n",
    "qtl_med_ratio = np.median(qtltools_sum_pvals_allchr / expect_med)\n",
    "\n",
    "ftest_90pct = np.quantile(ftest_pvals_allchr, 0.9)\n",
    "fisher_90pct = np.quantile(fisher_perm_pvals_allchr, 0.9)\n",
    "qtl_90pct = np.quantile(qtltools_sum_pvals_allchr, 0.9)\n",
    "\n",
    "print('F-test median: ' + str(ftest_med))\n",
    "print('Fisher_perm median: ' + str(fisher_med))\n",
    "print('QTLtools-sum median: ' + str(qtl_med))\n",
    "print('')\n",
    "print('Ratios vs expected median: ')\n",
    "print('F-test median: ' + str(ftest_med_ratio))\n",
    "print('Fisher_perm median: ' + str(fisher_med_ratio))\n",
    "print('QTLtools-sum median: ' + str(qtl_med_ratio))\n",
    "print('')\n",
    "print('F-test 90th percentile: ' + str(ftest_90pct))\n",
    "print('Fisher_perm 90th percentile: ' + str(fisher_90pct))\n",
    "print('QTLtools-sum 90th percentile: ' + str(qtl_90pct))\n"
   ]
  },
  {
   "cell_type": "code",
   "execution_count": 69,
   "metadata": {},
   "outputs": [
    {
     "data": {
      "text/html": [
       "<div>\n",
       "<style scoped>\n",
       "    .dataframe tbody tr th:only-of-type {\n",
       "        vertical-align: middle;\n",
       "    }\n",
       "\n",
       "    .dataframe tbody tr th {\n",
       "        vertical-align: top;\n",
       "    }\n",
       "\n",
       "    .dataframe thead th {\n",
       "        text-align: right;\n",
       "    }\n",
       "</style>\n",
       "<table border=\"1\" class=\"dataframe\">\n",
       "  <thead>\n",
       "    <tr style=\"text-align: right;\">\n",
       "      <th></th>\n",
       "      <th>F-test</th>\n",
       "      <th>Fisher_perm</th>\n",
       "      <th>QTLtools-sum</th>\n",
       "    </tr>\n",
       "  </thead>\n",
       "  <tbody>\n",
       "    <tr>\n",
       "      <th>0</th>\n",
       "      <td>-0.0</td>\n",
       "      <td>-0.0</td>\n",
       "      <td>-0.0</td>\n",
       "    </tr>\n",
       "    <tr>\n",
       "      <th>1</th>\n",
       "      <td>-0.0</td>\n",
       "      <td>-0.0</td>\n",
       "      <td>-0.0</td>\n",
       "    </tr>\n",
       "    <tr>\n",
       "      <th>2</th>\n",
       "      <td>-0.0</td>\n",
       "      <td>-0.0</td>\n",
       "      <td>-0.0</td>\n",
       "    </tr>\n",
       "    <tr>\n",
       "      <th>3</th>\n",
       "      <td>-0.0</td>\n",
       "      <td>-0.0</td>\n",
       "      <td>-0.0</td>\n",
       "    </tr>\n",
       "    <tr>\n",
       "      <th>4</th>\n",
       "      <td>-0.0</td>\n",
       "      <td>-0.0</td>\n",
       "      <td>-0.0</td>\n",
       "    </tr>\n",
       "  </tbody>\n",
       "</table>\n",
       "</div>"
      ],
      "text/plain": [
       "   F-test  Fisher_perm  QTLtools-sum\n",
       "0    -0.0         -0.0          -0.0\n",
       "1    -0.0         -0.0          -0.0\n",
       "2    -0.0         -0.0          -0.0\n",
       "3    -0.0         -0.0          -0.0\n",
       "4    -0.0         -0.0          -0.0"
      ]
     },
     "execution_count": 69,
     "metadata": {},
     "output_type": "execute_result"
    }
   ],
   "source": [
    "all_pvals_chr = pd.DataFrame(all_pvals_chr).transpose()\n",
    "all_pvals_chr.columns = ['F-test', 'Fisher_perm', 'QTLtools-sum']\n",
    "all_pvals_chr.head(5)"
   ]
  },
  {
   "cell_type": "code",
   "execution_count": 75,
   "metadata": {},
   "outputs": [
    {
     "data": {
      "image/png": "[encoded data removed]",
      "text/plain": [
       "<Figure size 864x864 with 1 Axes>"
      ]
     },
     "metadata": {
      "needs_background": "light"
     },
     "output_type": "display_data"
    }
   ],
   "source": [
    "qqfig = multi_qq_plot(all_pvals_chr, xmax=7.3, ymax=17.3)"
   ]
  },
  {
   "cell_type": "code",
   "execution_count": 76,
   "metadata": {},
   "outputs": [],
   "source": [
    "qqfig.savefig('qq_all_eqtl-egene_pairs.png')"
   ]
  },
  {
   "cell_type": "code",
   "execution_count": null,
   "metadata": {},
   "outputs": [],
   "source": []
  }
 ],
 "metadata": {
  "kernelspec": {
   "display_name": "Python 3",
   "language": "python",
   "name": "python3"
  },
  "language_info": {
   "codemirror_mode": {
    "name": "ipython",
    "version": 3
   },
   "file_extension": ".py",
   "mimetype": "text/x-python",
   "name": "python",
   "nbconvert_exporter": "python",
   "pygments_lexer": "ipython3",
   "version": "3.8.3"
  }
 },
 "nbformat": 4,
 "nbformat_minor": 4
}
